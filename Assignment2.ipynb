{
  "nbformat": 4,
  "nbformat_minor": 0,
  "metadata": {
    "colab": {
      "name": "Assignment2",
      "provenance": [],
      "collapsed_sections": []
    },
    "kernelspec": {
      "name": "python3",
      "display_name": "Python 3"
    }
  },
  "cells": [
    {
      "cell_type": "markdown",
      "metadata": {
        "id": "SzDsXCwT5aRN"
      },
      "source": [
        "Q1) Create an empty list. Accept 10 numbers from the user and append to it the list if it is an even number."
      ]
    },
    {
      "cell_type": "code",
      "metadata": {
        "id": "JaQfqNkU5Bbn",
        "outputId": "265de99d-4abc-4381-9385-dc377266f13c",
        "colab": {
          "base_uri": "https://localhost:8080/"
        }
      },
      "source": [
        "l=[]\n",
        "print(l)\n",
        "for i in range(0,10):\n",
        "  i=int(input())\n",
        "  if(i%2==0):\n",
        "    l.append(i)\n",
        "\n",
        "print(l)"
      ],
      "execution_count": null,
      "outputs": [
        {
          "output_type": "stream",
          "text": [
            "[]\n",
            "2121\n",
            "1111\n",
            "333\n",
            "44\n",
            "121\n",
            "544\n",
            "5555\n",
            "6767\n",
            "345\n",
            "2\n",
            "[44, 544, 2]\n"
          ],
          "name": "stdout"
        }
      ]
    },
    {
      "cell_type": "markdown",
      "metadata": {
        "id": "oQnGfLJY6fAi"
      },
      "source": [
        "Q2) Create a notebook on LIST COMPREHENSION. This exercise is to put you in a Self learning mode"
      ]
    },
    {
      "cell_type": "markdown",
      "metadata": {
        "id": "hPlQh4E0_0qF"
      },
      "source": [
        "Q3)given a number n, you have to write a program that generates a dictionary d which\n",
        "contains (i, i*i), where i is from 1 to n (both included).\n",
        "Then you have to just print this dictionary d.\n",
        "Example:\n",
        "Input: 4\n",
        "will give output as\n",
        "{1: 1, 2: 4, 3: 9, 4: 16}"
      ]
    },
    {
      "cell_type": "code",
      "metadata": {
        "id": "dNWlcENC6WkM",
        "outputId": "9c0be921-8d5b-44c9-dc75-5037c8788814",
        "colab": {
          "base_uri": "https://localhost:8080/"
        }
      },
      "source": [
        "d={}\n",
        "n=int(input(\"input numbers \"))\n",
        "\n",
        "for i in range(1,n+1):\n",
        "  d[i]=i*i\n",
        "  \n",
        "print(d)"
      ],
      "execution_count": null,
      "outputs": [
        {
          "output_type": "stream",
          "text": [
            "input numbers 6\n",
            "{1: 1, 2: 4, 3: 9, 4: 16, 5: 25, 6: 36}\n"
          ],
          "name": "stdout"
        }
      ]
    },
    {
      "cell_type": "markdown",
      "metadata": {
        "id": "72Vo95EA-_JJ"
      },
      "source": [
        "Q4) There is a robot which wants to go the charging point to charge itself.\n",
        "The robot moves in a 2-D plane from the original point (0,0). The robot can\n",
        "move toward UP, DOWN, LEFT and RIGHT with given steps.\n",
        "The trace of robot movement is shown as the following:\n",
        "UP 5\n",
        "DOWN 3\n",
        "LEFT 3\n",
        "RIGHT 2\n",
        "Then, the output of the program should be:\n",
        "2\n",
        "The numbers after the direction are steps.\n",
        "Write a program to compute the distance between the current position after\n",
        "a sequence of movement and original point. If the distance is a float, then\n",
        "just print the nearest integer (use round() function for that and then convert\n",
        "it into an integer).\n",
        "Input Format:\n",
        "The first line of the input contains a number n which implies the number of\n",
        "directions to be given.\n",
        "The next n lines contain the direction and the step separated by a space.\n",
        "Output Format:\n",
        "Print the distance from the original position to the current position.\n",
        "Example:\n",
        "Input:\n",
        "4\n",
        "UP 5\n",
        "DOWN 3\n",
        "LEFT 3\n",
        "RIGHT 2\n",
        "Output:\n",
        "2"
      ]
    },
    {
      "cell_type": "code",
      "metadata": {
        "id": "nCSNfPIG_eo6"
      },
      "source": [
        "position = {\"x\": 0, \"y\": 0}\n",
        "\n",
        "fixNumber = int(input())\n",
        "for i in range(fixNumber):\n",
        "\n",
        "    inputValue = input()\n",
        "    if not inputValue:\n",
        "        break\n",
        "\n",
        "    # print(inputValue)\n",
        "     steps = inputValue.split()\n",
        "    # print(direction)\n",
        "\n",
        "    if direction == \"UP\":\n",
        "        position[\"y\"] += int(steps)\n",
        "\n",
        "    elif direction == \"DOWN\":\n",
        "        position[\"y\"] -= int(steps)\n",
        "\n",
        "    elif direction == \"LEFT\":\n",
        "        position[\"x\"] -= int(steps)\n",
        "\n",
        "    elif direction == \"RIGHT\":\n",
        "        position[\"x\"] += int(steps)\n",
        "\n",
        "print(int(round((position[\"x\"] ** 2 + position[\"y\"] ** 2) ** 0.5)))  # Formula (x2 + y2)2\n",
        "\n"
      ],
      "execution_count": null,
      "outputs": []
    }
  ]
}