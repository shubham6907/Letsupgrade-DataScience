{
  "nbformat": 4,
  "nbformat_minor": 0,
  "metadata": {
    "colab": {
      "name": "Assignment4.ipynb",
      "provenance": [],
      "collapsed_sections": []
    },
    "kernelspec": {
      "name": "python3",
      "display_name": "Python 3"
    }
  },
  "cells": [
    {
      "cell_type": "markdown",
      "metadata": {
        "id": "FQx8z3EK8J6C"
      },
      "source": [
        "Q1) How to import pandas and check the version?"
      ]
    },
    {
      "cell_type": "code",
      "metadata": {
        "id": "lzb8QZO-8Hf9",
        "outputId": "088a8c59-8a67-4549-dc32-915dc77c016f",
        "colab": {
          "base_uri": "https://localhost:8080/"
        }
      },
      "source": [
        "# importing the panda libarary\n",
        "import pandas as pd\n",
        "\n",
        "#checking the version\n",
        "print(pd.__version__)"
      ],
      "execution_count": 3,
      "outputs": [
        {
          "output_type": "stream",
          "text": [
            "1.1.4\n"
          ],
          "name": "stdout"
        }
      ]
    },
    {
      "cell_type": "markdown",
      "metadata": {
        "id": "p5tCVkVH81av"
      },
      "source": [
        "Q2) How to create a series from a numpy array?"
      ]
    },
    {
      "cell_type": "code",
      "metadata": {
        "id": "-GHRSnLT80ci",
        "outputId": "a7af2246-aff8-4e42-89e8-ef04dc352d3c",
        "colab": {
          "base_uri": "https://localhost:8080/"
        }
      },
      "source": [
        "#for creating the numpy array importing a numpy libraray\n",
        "import numpy as np\n",
        "\n",
        "#creating the numpy array\n",
        "arr = np.arange(11,20)\n",
        "print(arr)\n",
        "print(type(arr))\n",
        "\n",
        "#converting the numpy array into a series\n",
        "series1=pd.Series(arr)\n",
        "print(series1)\n",
        "print(type(series1))"
      ],
      "execution_count": 10,
      "outputs": [
        {
          "output_type": "stream",
          "text": [
            "[11 12 13 14 15 16 17 18 19]\n",
            "<class 'numpy.ndarray'>\n",
            "0    11\n",
            "1    12\n",
            "2    13\n",
            "3    14\n",
            "4    15\n",
            "5    16\n",
            "6    17\n",
            "7    18\n",
            "8    19\n",
            "dtype: int64\n",
            "<class 'pandas.core.series.Series'>\n"
          ],
          "name": "stdout"
        }
      ]
    },
    {
      "cell_type": "markdown",
      "metadata": {
        "id": "blL85uZl96x1"
      },
      "source": [
        "Q3) How to convert the index of a series into a column of a dataframe?"
      ]
    },
    {
      "cell_type": "code",
      "metadata": {
        "id": "HyrwvJlm956k",
        "outputId": "4fa7f98d-ede3-407c-df44-088eb04f3230",
        "colab": {
          "base_uri": "https://localhost:8080/"
        }
      },
      "source": [
        "#creating a series \n",
        "arr = np.arange(21,30)\n",
        "series=pd.Series(arr)\n",
        "print(series)\n",
        "\n",
        "#converting the index of series into a column of a dataframe\n",
        "print(\"\\nConverted the index of series into a column of a dataframe\",series.reset_index())\n"
      ],
      "execution_count": 15,
      "outputs": [
        {
          "output_type": "stream",
          "text": [
            "0    21\n",
            "1    22\n",
            "2    23\n",
            "3    24\n",
            "4    25\n",
            "5    26\n",
            "6    27\n",
            "7    28\n",
            "8    29\n",
            "dtype: int64\n",
            "\n",
            "Converted the index of series into a column of a dataframe    index   0\n",
            "0      0  21\n",
            "1      1  22\n",
            "2      2  23\n",
            "3      3  24\n",
            "4      4  25\n",
            "5      5  26\n",
            "6      6  27\n",
            "7      7  28\n",
            "8      8  29\n"
          ],
          "name": "stdout"
        }
      ]
    },
    {
      "cell_type": "markdown",
      "metadata": {
        "id": "ONW92Da-BMso"
      },
      "source": [
        "Q4) Write the code to list all the datasets available in seaborn library.\n",
        "Load the 'mpg' dataset\n",
        "Note: mpg dataset will be read from seaborn module in the manner sir has already shown(provided in the\n",
        "materials folder)"
      ]
    },
    {
      "cell_type": "code",
      "metadata": {
        "id": "DQrRsMwhBYKS",
        "outputId": "b111d884-f76b-4e00-a580-bffb1b5dad6b",
        "colab": {
          "base_uri": "https://localhost:8080/"
        }
      },
      "source": [
        "# importing pandas and matplot library for our additional custamization \n",
        "import pandas as pd\n",
        "import matplotlib.pyplot as plt\n",
        "\n",
        "#importing the seaborn libarary\n",
        "import seaborn as sns\n",
        "\n",
        "#to saw all the available dataset in seaborn library\n",
        "print(sns.get_dataset_names())\n",
        "\n",
        "#loading the mpg dataset\n",
        "mpg = sns.load_dataset('mpg')\n",
        "print(\"\\n\",mpg)"
      ],
      "execution_count": 21,
      "outputs": [
        {
          "output_type": "stream",
          "text": [
            "['anagrams', 'anscombe', 'attention', 'brain_networks', 'car_crashes', 'diamonds', 'dots', 'exercise', 'flights', 'fmri', 'gammas', 'geyser', 'iris', 'mpg', 'penguins', 'planets', 'tips', 'titanic']\n",
            "\n",
            "       mpg  cylinders  ...  origin                       name\n",
            "0    18.0          8  ...     usa  chevrolet chevelle malibu\n",
            "1    15.0          8  ...     usa          buick skylark 320\n",
            "2    18.0          8  ...     usa         plymouth satellite\n",
            "3    16.0          8  ...     usa              amc rebel sst\n",
            "4    17.0          8  ...     usa                ford torino\n",
            "..    ...        ...  ...     ...                        ...\n",
            "393  27.0          4  ...     usa            ford mustang gl\n",
            "394  44.0          4  ...  europe                  vw pickup\n",
            "395  32.0          4  ...     usa              dodge rampage\n",
            "396  28.0          4  ...     usa                ford ranger\n",
            "397  31.0          4  ...     usa                 chevy s-10\n",
            "\n",
            "[398 rows x 9 columns]\n"
          ],
          "name": "stdout"
        }
      ]
    },
    {
      "cell_type": "markdown",
      "metadata": {
        "id": "Q3dJEXmmD0__"
      },
      "source": [
        "Q5) Which country origin cars are a part of this dataset?"
      ]
    },
    {
      "cell_type": "code",
      "metadata": {
        "id": "lC8DXq3DD0H3",
        "outputId": "73e5a908-7d1f-4c82-9dec-1485c5585daf",
        "colab": {
          "base_uri": "https://localhost:8080/"
        }
      },
      "source": [
        "#importing the seaborn libarary\n",
        "import seaborn as sns\n",
        "\n",
        "#loading the mpg dataset\n",
        "mpg = sns.load_dataset('mpg')\n",
        "print(\"\\n\",mpg)\n",
        "\n",
        "print(\"\\n Origin cars are from this countries =\",mpg['origin'].unique())"
      ],
      "execution_count": 26,
      "outputs": [
        {
          "output_type": "stream",
          "text": [
            "\n",
            "       mpg  cylinders  ...  origin                       name\n",
            "0    18.0          8  ...     usa  chevrolet chevelle malibu\n",
            "1    15.0          8  ...     usa          buick skylark 320\n",
            "2    18.0          8  ...     usa         plymouth satellite\n",
            "3    16.0          8  ...     usa              amc rebel sst\n",
            "4    17.0          8  ...     usa                ford torino\n",
            "..    ...        ...  ...     ...                        ...\n",
            "393  27.0          4  ...     usa            ford mustang gl\n",
            "394  44.0          4  ...  europe                  vw pickup\n",
            "395  32.0          4  ...     usa              dodge rampage\n",
            "396  28.0          4  ...     usa                ford ranger\n",
            "397  31.0          4  ...     usa                 chevy s-10\n",
            "\n",
            "[398 rows x 9 columns]\n",
            "\n",
            " Origin cars are from this countries = ['usa' 'japan' 'europe']\n"
          ],
          "name": "stdout"
        }
      ]
    },
    {
      "cell_type": "markdown",
      "metadata": {
        "id": "ZEqep8RxFe1R"
      },
      "source": [
        "Q6) Extract the part of the dataframe which contains cars belonging to 'usa'"
      ]
    },
    {
      "cell_type": "code",
      "metadata": {
        "id": "xXvojjvXFXq3",
        "outputId": "90fe5bf9-ba12-41a4-b3c0-76d7be91b0a8",
        "colab": {
          "base_uri": "https://localhost:8080/"
        }
      },
      "source": [
        "#importing the seaborn libarary\n",
        "import seaborn as sns\n",
        "\n",
        "# importing the panda libarary\n",
        "import pandas as pd\n",
        "\n",
        "#loading the mpg dataset\n",
        "mpg = sns.load_dataset('mpg')\n",
        "print(\"\\n\",mpg)\n",
        "\n",
        "dataframe = pd.DataFrame(mpg)\n",
        "print(\"Cars belonging to the USA\",dataframe[dataframe['origin'].str.contains(\"usa\")])\n"
      ],
      "execution_count": 28,
      "outputs": [
        {
          "output_type": "stream",
          "text": [
            "\n",
            "       mpg  cylinders  ...  origin                       name\n",
            "0    18.0          8  ...     usa  chevrolet chevelle malibu\n",
            "1    15.0          8  ...     usa          buick skylark 320\n",
            "2    18.0          8  ...     usa         plymouth satellite\n",
            "3    16.0          8  ...     usa              amc rebel sst\n",
            "4    17.0          8  ...     usa                ford torino\n",
            "..    ...        ...  ...     ...                        ...\n",
            "393  27.0          4  ...     usa            ford mustang gl\n",
            "394  44.0          4  ...  europe                  vw pickup\n",
            "395  32.0          4  ...     usa              dodge rampage\n",
            "396  28.0          4  ...     usa                ford ranger\n",
            "397  31.0          4  ...     usa                 chevy s-10\n",
            "\n",
            "[398 rows x 9 columns]\n",
            "Cars belonging to the USA       mpg  cylinders  ...  origin                       name\n",
            "0    18.0          8  ...     usa  chevrolet chevelle malibu\n",
            "1    15.0          8  ...     usa          buick skylark 320\n",
            "2    18.0          8  ...     usa         plymouth satellite\n",
            "3    16.0          8  ...     usa              amc rebel sst\n",
            "4    17.0          8  ...     usa                ford torino\n",
            "..    ...        ...  ...     ...                        ...\n",
            "392  27.0          4  ...     usa           chevrolet camaro\n",
            "393  27.0          4  ...     usa            ford mustang gl\n",
            "395  32.0          4  ...     usa              dodge rampage\n",
            "396  28.0          4  ...     usa                ford ranger\n",
            "397  31.0          4  ...     usa                 chevy s-10\n",
            "\n",
            "[249 rows x 9 columns]\n"
          ],
          "name": "stdout"
        }
      ]
    }
  ]
}