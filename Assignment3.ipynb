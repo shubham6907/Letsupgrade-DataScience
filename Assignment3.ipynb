{
  "nbformat": 4,
  "nbformat_minor": 0,
  "metadata": {
    "colab": {
      "name": "Assignment3.ipynb",
      "provenance": [],
      "collapsed_sections": []
    },
    "kernelspec": {
      "name": "python3",
      "display_name": "Python 3"
    }
  },
  "cells": [
    {
      "cell_type": "code",
      "metadata": {
        "id": "MJuOJZazSfAg",
        "outputId": "0975f623-b4c7-4240-91db-6e0b385192d0",
        "colab": {
          "base_uri": "https://localhost:8080/"
        }
      },
      "source": [
        "# importing numpy and giving a alies name\n",
        "import numpy\n",
        "print(numpy.__version__)\n",
        "import numpy as np"
      ],
      "execution_count": 1,
      "outputs": [
        {
          "output_type": "stream",
          "text": [
            "1.18.5\n"
          ],
          "name": "stdout"
        }
      ]
    },
    {
      "cell_type": "markdown",
      "metadata": {
        "id": "XavGieaTSRMC"
      },
      "source": [
        "Q1) Create a numpy array starting from 2 till 50 with a stepsize of 3."
      ]
    },
    {
      "cell_type": "code",
      "metadata": {
        "id": "hkdo24qcSK2b",
        "outputId": "fc544234-badd-4fff-c03a-6cc7ff812e88",
        "colab": {
          "base_uri": "https://localhost:8080/"
        }
      },
      "source": [
        "arr = np.arange(2,51,3)\n",
        "print(arr)"
      ],
      "execution_count": 8,
      "outputs": [
        {
          "output_type": "stream",
          "text": [
            "[ 2  5  8 11 14 17 20 23 26 29 32 35 38 41 44 47 50]\n"
          ],
          "name": "stdout"
        }
      ]
    },
    {
      "cell_type": "markdown",
      "metadata": {
        "id": "JqlU74RvUF34"
      },
      "source": [
        "Q2) Accept two lists of 5 elements each from the user.\n",
        "Convert them to numpy arrays. Concatenate these arrays and print it. Also sort these arrays and print it."
      ]
    },
    {
      "cell_type": "code",
      "metadata": {
        "id": "GAz0ilzdUEgl",
        "outputId": "bd2f8d04-6020-4b31-adc9-3e21e8def2a7",
        "colab": {
          "base_uri": "https://localhost:8080/"
        }
      },
      "source": [
        "# Creating the two list\n",
        "list1=[]\n",
        "list2=[]\n",
        "\n",
        "# giving a input elements from user \n",
        "print(\"Enter 5 Element for 1st list\")\n",
        "for i in range(0,5):\n",
        "  i = int(input())\n",
        "  list1.append(i)\n",
        "\n",
        "print(\"Enter 5 Element for 2nd list\")\n",
        "for i in range(0,5):\n",
        "  i = int(input())\n",
        "  list2.append(i)\n",
        "\n",
        "print(\"list1 = \",list1)\n",
        "print(\"list2 = \",list2)\n",
        "\n",
        "# Converting the list into array\n",
        "arr1 = np.array(list1)\n",
        "arr2 = np.array(list2)\n",
        "         \n",
        "#concaneting the arrays\n",
        "arr = np.concatenate((arr1,arr2))\n",
        "print(\"concatenated arrys = \",arr)\n",
        "\n",
        "#Sorting the arrays\n",
        "arr1=np.sort(arr1)\n",
        "arr2=np.sort(arr2)\n",
        "\n",
        "print(\"sorted array =\",arr1)\n",
        "print(\"sorted array =\",arr2)"
      ],
      "execution_count": 23,
      "outputs": [
        {
          "output_type": "stream",
          "text": [
            "Enter 5 Element for 1st list\n",
            "20\n",
            "18\n",
            "17\n",
            "13\n",
            "11\n",
            "Enter 5 Element for 2nd list\n",
            "10\n",
            "9\n",
            "6\n",
            "4\n",
            "1\n",
            "list1 =  [20, 18, 17, 13, 11]\n",
            "list2 =  [10, 9, 6, 4, 1]\n",
            "concatenated arrys =  [20 18 17 13 11 10  9  6  4  1]\n",
            "sorted array = [11 13 17 18 20]\n",
            "sorted array = [ 1  4  6  9 10]\n"
          ],
          "name": "stdout"
        }
      ]
    },
    {
      "cell_type": "markdown",
      "metadata": {
        "id": "bjx4zr_Fcaac"
      },
      "source": [
        "Q3) Write a code snippet to find the dimensions of a ndarray and its size."
      ]
    },
    {
      "cell_type": "code",
      "metadata": {
        "id": "qPQaSvWZcZsU",
        "outputId": "7db5a43b-98f9-4386-dd6a-bacfbb636671",
        "colab": {
          "base_uri": "https://localhost:8080/"
        }
      },
      "source": [
        "arr = np.array([3,21,232,213,3,1,23,12,33,11,5,6,7,8])\n",
        "print(arr)\n",
        "\n",
        "#dimensions of ndarray\n",
        "print(\"dimensions of given array is \",np.ndim(arr))\n",
        "\n",
        "#size of array\n",
        "print(\"Size of array \",np.size(arr))"
      ],
      "execution_count": 26,
      "outputs": [
        {
          "output_type": "stream",
          "text": [
            "[  3  21 232 213   3   1  23  12  33  11   5   6   7   8]\n",
            "dimensions of given array is  1\n",
            "Size of array  14\n"
          ],
          "name": "stdout"
        }
      ]
    },
    {
      "cell_type": "markdown",
      "metadata": {
        "id": "TMhg8fH2eSG4"
      },
      "source": [
        "Q4) How to convert a 1D array into a 2D array? Demonstrate with the help of a code snippet\n",
        "Hint: np.newaxis, np.expand_dims"
      ]
    },
    {
      "cell_type": "code",
      "metadata": {
        "id": "aWjMto_ceRiz",
        "outputId": "103b2cf2-6e08-41c3-8b2a-6d850109ee73",
        "colab": {
          "base_uri": "https://localhost:8080/"
        }
      },
      "source": [
        "#Creating a 1d array\n",
        "arr_1d = np.arange(1,6)\n",
        "print(\"Given 1d array\",arr_1d)\n",
        "\n",
        "#converting into 2d array\n",
        "arr_2d = arr_1d[:,np.newaxis]\n",
        "print(\"converted into the 2d array\",arr_2d)"
      ],
      "execution_count": 30,
      "outputs": [
        {
          "output_type": "stream",
          "text": [
            "Given 1d array [1 2 3 4 5]\n",
            "converted into the 2d array [[1]\n",
            " [2]\n",
            " [3]\n",
            " [4]\n",
            " [5]]\n"
          ],
          "name": "stdout"
        }
      ]
    },
    {
      "cell_type": "markdown",
      "metadata": {
        "id": "dy3n4i6QkNk2"
      },
      "source": [
        "Q5) Consider two square numpy arrays. Stack them vertically and horizontally.\n",
        "Hint: Use vstack(), hstack()"
      ]
    },
    {
      "cell_type": "code",
      "metadata": {
        "id": "MCVquSNskM0A",
        "outputId": "558d97b2-6ae6-43ee-f322-a91bb1fc7a2f",
        "colab": {
          "base_uri": "https://localhost:8080/"
        }
      },
      "source": [
        "#Creating the two sqaure arrays\n",
        "square_array1 = np.square([1,4,5,8,10])\n",
        "square_array2 = np.square([11,14,15,17,18])\n",
        "\n",
        "#stacking array horizontally\n",
        "print(\"Horinzontal Stacked arrays :\", np.hstack((square_array1,square_array2)))\n",
        "\n",
        "#Stacking array vertically\n",
        "print(\"Verticle Stacked arrays :\", np.vstack((square_array1,square_array2)))"
      ],
      "execution_count": 35,
      "outputs": [
        {
          "output_type": "stream",
          "text": [
            "Horinzontal Stacked arrays : [  1  16  25  64 100 121 196 225 289 324]\n",
            "Verticle Stacked arrays : [[  1  16  25  64 100]\n",
            " [121 196 225 289 324]]\n"
          ],
          "name": "stdout"
        }
      ]
    },
    {
      "cell_type": "markdown",
      "metadata": {
        "id": "hPW4xBLKn9w3"
      },
      "source": [
        "Q6) How to get unique items and counts of unique items?"
      ]
    },
    {
      "cell_type": "code",
      "metadata": {
        "id": "aD95HaQ5n8mo",
        "outputId": "94bcf2ec-6609-472c-bc24-7cfb89978f4c",
        "colab": {
          "base_uri": "https://localhost:8080/"
        }
      },
      "source": [
        "arr = np.array([1,1,2,3,3,4,6,7,8,8])\n",
        "print(arr)\n",
        "\n",
        "# Get the unique items\n",
        "print(\"Unique items of Given array\",np.unique(arr))\n",
        "\n",
        "# Count of unique item in the given array\n",
        "print(\"Count of the given array\",np.unique(arr,return_counts=True))"
      ],
      "execution_count": 39,
      "outputs": [
        {
          "output_type": "stream",
          "text": [
            "[1 1 2 3 3 4 6 7 8 8]\n",
            "Unique items of Given array [1 2 3 4 6 7 8]\n",
            "Count of the given array (array([1, 2, 3, 4, 6, 7, 8]), array([2, 1, 2, 1, 1, 1, 2]))\n"
          ],
          "name": "stdout"
        }
      ]
    }
  ]
}